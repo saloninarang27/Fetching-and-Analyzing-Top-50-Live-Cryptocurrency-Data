{
 "cells": [
  {
   "cell_type": "code",
   "execution_count": 4,
   "id": "ee1af483-3762-46c9-b44f-f840df9324a1",
   "metadata": {},
   "outputs": [
    {
     "name": "stdout",
     "output_type": "stream",
     "text": [
      "Collecting openpyxl"
     ]
    },
    {
     "name": "stderr",
     "output_type": "stream",
     "text": [
      "\n",
      "[notice] A new release of pip is available: 24.3.1 -> 25.0.1\n",
      "[notice] To update, run: python.exe -m pip install --upgrade pip\n"
     ]
    },
    {
     "name": "stdout",
     "output_type": "stream",
     "text": [
      "\n",
      "  Downloading openpyxl-3.1.5-py2.py3-none-any.whl.metadata (2.5 kB)\n",
      "Collecting et-xmlfile (from openpyxl)\n",
      "  Downloading et_xmlfile-2.0.0-py3-none-any.whl.metadata (2.7 kB)\n",
      "Downloading openpyxl-3.1.5-py2.py3-none-any.whl (250 kB)\n",
      "Downloading et_xmlfile-2.0.0-py3-none-any.whl (18 kB)\n",
      "Installing collected packages: et-xmlfile, openpyxl\n",
      "Successfully installed et-xmlfile-2.0.0 openpyxl-3.1.5\n"
     ]
    }
   ],
   "source": [
    "!pip install openpyxl\n"
   ]
  },
  {
   "cell_type": "code",
   "execution_count": null,
   "id": "9bdd8a0c-f1b0-4846-9b9c-b749be220c73",
   "metadata": {},
   "outputs": [
    {
     "name": "stdout",
     "output_type": "stream",
     "text": [
      "Updating Excel with live data...\n",
      "Excel file updated.\n",
      "Updating Excel with live data...\n",
      "Excel file updated.\n"
     ]
    }
   ],
   "source": [
    "import requests\n",
    "import pandas as pd\n",
    "import time\n",
    "from openpyxl import Workbook\n",
    "\n",
    "def fetch_crypto_data():\n",
    "    url = \"https://api.coingecko.com/api/v3/coins/markets\"\n",
    "    params = {\n",
    "        \"vs_currency\": \"usd\",\n",
    "        \"order\": \"market_cap_desc\",\n",
    "        \"per_page\": 50,\n",
    "        \"page\": 1,\n",
    "        \"sparkline\": False\n",
    "    }\n",
    "    response = requests.get(url, params=params)\n",
    "    if response.status_code == 200:\n",
    "        return response.json()\n",
    "    else:\n",
    "        print(\"Error fetching data:\", response.status_code)\n",
    "        return []\n",
    "\n",
    "def analyze_data(data):\n",
    "    df = pd.DataFrame(data)\n",
    "    df = df[[\"name\", \"symbol\", \"current_price\", \"market_cap\", \"total_volume\", \"price_change_percentage_24h\"]]\n",
    "    \n",
    "    top_5 = df.nlargest(5, \"market_cap\")\n",
    "    avg_price = df[\"current_price\"].mean()\n",
    "    highest_change = df.loc[df[\"price_change_percentage_24h\"].idxmax()]\n",
    "    lowest_change = df.loc[df[\"price_change_percentage_24h\"].idxmin()]\n",
    "    \n",
    "    return df, top_5, avg_price, highest_change, lowest_change\n",
    "\n",
    "def write_to_excel(df):\n",
    "    with pd.ExcelWriter(\"crypto_data.xlsx\", engine=\"openpyxl\") as writer:\n",
    "        df.to_excel(writer, sheet_name=\"Crypto Data\", index=False)\n",
    "    print(\"Excel file updated.\")\n",
    "\n",
    "def main():\n",
    "    while True:\n",
    "        data = fetch_crypto_data()\n",
    "        if data:\n",
    "            df, top_5, avg_price, highest_change, lowest_change = analyze_data(data)\n",
    "            print(\"Updating Excel with live data...\")\n",
    "            write_to_excel(df)\n",
    "            time.sleep(300)  # Update every 5 minutes\n",
    "        else:\n",
    "            print(\"Retrying in 5 minutes...\")\n",
    "            time.sleep(300)\n",
    "\n",
    "if __name__ == \"__main__\":\n",
    "    main()\n"
   ]
  },
  {
   "cell_type": "code",
   "execution_count": null,
   "id": "fd235b0b-93c8-4c9d-83af-fd8681ceb51e",
   "metadata": {},
   "outputs": [],
   "source": []
  }
 ],
 "metadata": {
  "kernelspec": {
   "display_name": "Python 3 (ipykernel)",
   "language": "python",
   "name": "python3"
  },
  "language_info": {
   "codemirror_mode": {
    "name": "ipython",
    "version": 3
   },
   "file_extension": ".py",
   "mimetype": "text/x-python",
   "name": "python",
   "nbconvert_exporter": "python",
   "pygments_lexer": "ipython3",
   "version": "3.11.0"
  }
 },
 "nbformat": 4,
 "nbformat_minor": 5
}
